{
 "cells": [
  {
   "cell_type": "code",
   "execution_count": 1,
   "metadata": {},
   "outputs": [],
   "source": [
    "# Dependencies\n",
    "import tweepy\n",
    "import numpy as np\n",
    "import pandas as pd\n",
    "import matplotlib.pyplot as plt\n",
    "# Import and Initialize Sentiment Analyzer\n",
    "from vaderSentiment.vaderSentiment import SentimentIntensityAnalyzer\n",
    "analyzer = SentimentIntensityAnalyzer()\n",
    "\n",
    "# Twitter API Keys\n",
    "from config import (consumer_key,\n",
    "                    consumer_secret,\n",
    "                    access_token,\n",
    "                    access_token_secret)\n",
    "\n",
    "# Setup Tweepy API Authentication\n",
    "auth = tweepy.OAuthHandler(consumer_key, consumer_secret)\n",
    "auth.set_access_token(access_token, access_token_secret)\n",
    "api = tweepy.API(auth, parser=tweepy.parsers.JSONParser())"
   ]
  },
  {
   "cell_type": "code",
   "execution_count": 2,
   "metadata": {},
   "outputs": [
    {
     "name": "stdout",
     "output_type": "stream",
     "text": [
      "User: @CNN\n",
      "Compound: 0.038\n",
      "Positive: 0.086\n",
      "Neutral: 0.848\n",
      "Negative: 0.066\n",
      "100\n",
      "User: @BBC\n",
      "Compound: 0.064\n",
      "Positive: 0.097\n",
      "Neutral: 0.834\n",
      "Negative: 0.069\n",
      "200\n",
      "User: @CBSNews\n",
      "Compound: 0.030\n",
      "Positive: 0.090\n",
      "Neutral: 0.830\n",
      "Negative: 0.080\n",
      "300\n",
      "User: @FoxNews\n",
      "Compound: 0.027\n",
      "Positive: 0.093\n",
      "Neutral: 0.824\n",
      "Negative: 0.083\n",
      "400\n",
      "User: @nytimes\n",
      "Compound: 0.015\n",
      "Positive: 0.088\n",
      "Neutral: 0.829\n",
      "Negative: 0.083\n",
      "500\n"
     ]
    }
   ],
   "source": [
    "\n",
    "target_users = (\"@CNN\", \"@BBC\", \"@CBSNews\", \"@FoxNews\", \"@nytimes\")\n",
    "\n",
    "counter = 0\n",
    "\n",
    "# List for dictionaries of results\n",
    "results_list = []\n",
    "tweet_list = []\n",
    "user_list = []\n",
    "compound_list = []\n",
    "positive_list = []\n",
    "negative_list = []\n",
    "neutral_list = []\n",
    "\n",
    "# Loop through each user\n",
    "\n",
    "\n",
    "for user in target_users:\n",
    "\n",
    "    # Variables for holding sentiments\n",
    "    #compound_list = []\n",
    "    #positive_list = []\n",
    "    #negative_list = []\n",
    "    #neutral_list = []\n",
    "    #tweet_list = []\n",
    "    \n",
    "    # Loop through 5 pages of tweets (total 100 tweets)\n",
    "    for x in range(1, 6):\n",
    "        \n",
    "        oldest_tweet = None\n",
    "\n",
    "        # Get all tweets from home feed\n",
    "        public_tweets = api.user_timeline(user, page=x, result_type=\"recent\", max_id=oldest_tweet)\n",
    "\n",
    "        # Loop through all tweets\n",
    "        for tweet in public_tweets:\n",
    "\n",
    "            # Run Vader Analysis on each tweet\n",
    "            results = analyzer.polarity_scores(tweet[\"text\"])\n",
    "            compound = results[\"compound\"]\n",
    "            pos = results[\"pos\"]\n",
    "            neu = results[\"neu\"]\n",
    "            neg = results[\"neg\"]\n",
    "            \n",
    "            # Add each value to the appropriate list\n",
    "            compound_list.append(compound)\n",
    "            positive_list.append(pos)\n",
    "            negative_list.append(neg)\n",
    "            neutral_list.append(neu)\n",
    "            user_list.append(user)\n",
    "            counter += 1\n",
    "            tweet_list.append(counter)\n",
    "    # Create a dictionaty of results\n",
    "    user_results = {\n",
    "        \"Username\": user,\n",
    "        \"Compound Score\": np.mean(compound_list),\n",
    "        \"Postive Score\": np.mean(positive_list),\n",
    "        \"Neutral Score\": np.mean(neutral_list),\n",
    "        \"Negative Score\": np.mean(negative_list)\n",
    "    }\n",
    "\n",
    "      # Append dictionary to list\n",
    "    results_list.append(user_results)\n",
    "    tweets_ago = counter\n",
    "    # Print the Averages\n",
    "    print(f\"User: {user}\")\n",
    "    print(f\"Compound: {np.mean(compound_list):.3f}\")\n",
    "    print(f\"Positive: {np.mean(positive_list):.3f}\")\n",
    "    print(f\"Neutral: {np.mean(neutral_list):.3f}\")\n",
    "    print(f\"Negative: {np.mean(negative_list):.3f}\")\n",
    "    print(tweets_ago)"
   ]
  },
  {
   "cell_type": "code",
   "execution_count": null,
   "metadata": {},
   "outputs": [],
   "source": []
  },
  {
   "cell_type": "code",
   "execution_count": null,
   "metadata": {},
   "outputs": [],
   "source": []
  },
  {
   "cell_type": "code",
   "execution_count": null,
   "metadata": {},
   "outputs": [],
   "source": []
  },
  {
   "cell_type": "code",
   "execution_count": 3,
   "metadata": {},
   "outputs": [],
   "source": [
    "results_df = pd.DataFrame(results_list).round(3)\n",
    "\n",
    "results_df.head()\n",
    "\n",
    "bar_x = results_df[\"Username\"]\n",
    "\n",
    "bar_y = results_df[\"Compound Score\"]"
   ]
  },
  {
   "cell_type": "code",
   "execution_count": 4,
   "metadata": {},
   "outputs": [],
   "source": [
    "tweets_df = pd.DataFrame({ \"Username\": user_list, \"Compound\":compound_list, \"Tweet Count\": tweet_list})\n",
    "\n",
    "tweets_df_grouped = tweets_df.groupby(user_list)\n",
    "\n",
    "\n",
    "\n",
    "tweets_file = tweets_df.to_csv(\"tweets_csv\")\n",
    "\n",
    "\n",
    "#y_axis.head()\n",
    "#cnn_x = tweets_df_grouped[\"Tweet Count\"].unique().filter(like=\"@CNN\")\n",
    "\n",
    "#bbc_x = tweets_df_grouped[\"Tweet Count\"].unique().filter(like=\"@BBC\") - 100\n",
    "\n",
    "#cbs_x = tweets_df_grouped[\"Tweet Count\"].unique().filter(like=\"@CBSNews\")-200\n",
    "\n",
    "#fox_x = tweets_df_grouped[\"Tweet Count\"].unique().filter(like=\"@FoxNews\")- 300\n",
    "\n",
    "#ny_x = tweets_df_grouped[\"Tweet Count\"].unique().filter(like=\"@nytimes\")- 400\n",
    "\n",
    "\n",
    "\n",
    "\n",
    "cnn_df = tweets_df.loc[tweets_df.Username== '@CNN']\n",
    "\n",
    "bbc_df = tweets_df.loc[tweets_df.Username== '@BBC']\n",
    "\n",
    "cbs_df = tweets_df.loc[tweets_df.Username== '@CBSNews']\n",
    "\n",
    "fox_df = tweets_df.loc[tweets_df.Username== '@FoxNews']\n",
    "\n",
    "ny_df = tweets_df.loc[tweets_df.Username== '@nytimes']\n",
    "\n",
    "cnn_x = cnn_df[\"Tweet Count\"]\n",
    "\n",
    "bbc_x = bbc_df[\"Tweet Count\"] - 100\n",
    "\n",
    "cbs_x = cbs_df[\"Tweet Count\"] - 200 \n",
    "\n",
    "fox_x = fox_df[\"Tweet Count\"] - 300\n",
    "\n",
    "ny_x = ny_df[\"Tweet Count\"] - 400\n",
    " \n",
    "cnn_y = cnn_df[\"Compound\"]\n",
    "\n",
    "bbc_y = bbc_df[\"Compound\"]\n",
    "\n",
    "cbs_y = cbs_df[\"Compound\"]\n",
    "\n",
    "fox_y = fox_df[\"Compound\"]\n",
    "\n",
    "ny_y = ny_df[\"Compound\"]\n",
    "\n",
    "#joe = df.loc[df.name=='joe']\n",
    "l_bbc = \"BBC\"\n",
    "l_cnn = \"CNN\"\n",
    "l_cbs = \"CBS\"\n",
    "l_fn = \"FOX\"\n",
    "l_ny = \"NYT\"\n",
    "\n"
   ]
  },
  {
   "cell_type": "code",
   "execution_count": 5,
   "metadata": {},
   "outputs": [
    {
     "data": {
      "image/png": "[encoded data removed]",
      "text/plain": [
       "<Figure size 432x288 with 1 Axes>"
      ]
     },
     "metadata": {},
     "output_type": "display_data"
    }
   ],
   "source": [
    "\n",
    "\n",
    "\n",
    "\n",
    "\n",
    "plt.scatter(bbc_x, bbc_y, marker=\"o\", facecolors =\"aqua\", edgecolors='black', alpha=0.8, label= l_bbc)\n",
    "\n",
    "plt.scatter(cbs_x, cbs_y, marker=\"o\", facecolors =\"green\", edgecolors='black', alpha=0.8, label= l_cbs)\n",
    "\n",
    "plt.scatter(cnn_x, cnn_y, marker=\"o\", facecolors =\"red\", edgecolors='black', alpha=0.8, label= l_cnn)\n",
    "\n",
    "plt.scatter(fox_x, fox_y, marker=\"o\", facecolors =\"blue\", edgecolors='black', alpha=0.8, label= l_fn)\n",
    " \n",
    "plt.scatter(ny_x, ny_y, marker=\"o\", facecolors =\"gold\", edgecolors='black', alpha=0.8, label= l_ny)\n",
    "\n",
    "plt.title(\"Sentiment Analysis of Media Tweets 10/08/18\")\n",
    "plt.ylabel(\"Tweet Polarity\")\n",
    "plt.xlabel(\"Tweets Ago\")\n",
    "plt.legend(loc =1, bbox_to_anchor=(1.2, 1), title= \"Sources\")\n",
    "plt.grid()\n",
    "plt.plot\n",
    "plt.savefig(\"scatter\")"
   ]
  },
  {
   "cell_type": "code",
   "execution_count": 6,
   "metadata": {},
   "outputs": [
    {
     "data": {
      "image/png": "[encoded data removed]",
      "text/plain": [
       "<Figure size 432x288 with 1 Axes>"
      ]
     },
     "metadata": {},
     "output_type": "display_data"
    }
   ],
   "source": [
    "\n",
    "bar_colors = (\"red\", \"aqua\", \"green\", \"blue\", \"gold\")\n",
    "bar_graph = plt.bar(bar_x, bar_y, color=bar_colors)\n",
    "plt.ylabel = (\"Tweet Polarity\")\n",
    "#not sure why the title and label info is not working? \n",
    "plt.title = (\"Overall Media Sentiment Based On Twitter 10/08/18\")\n",
    "plt.plot\n",
    "plt.savefig(\"bar\")"
   ]
  },
  {
   "cell_type": "code",
   "execution_count": null,
   "metadata": {},
   "outputs": [],
   "source": [
    "#1) BBC is showing the highest tweet polarity with nytimes showing the lowest. \n",
    "\n",
    "#2) There appears to be a large amount of neutral ratings when looking at all the tweets. More analysis would need to be done to confirm if this is significant though.\n",
    "\n",
    "#3) Overall this data shows that many of the tweets sent out by the media vary greatly when you would expect them to be more clustered near the 0.00 polarity rating."
   ]
  },
  {
   "cell_type": "code",
   "execution_count": null,
   "metadata": {},
   "outputs": [],
   "source": []
  },
  {
   "cell_type": "code",
   "execution_count": null,
   "metadata": {},
   "outputs": [],
   "source": []
  },
  {
   "cell_type": "code",
   "execution_count": null,
   "metadata": {},
   "outputs": [],
   "source": []
  },
  {
   "cell_type": "code",
   "execution_count": null,
   "metadata": {},
   "outputs": [],
   "source": []
  }
 ],
 "metadata": {
  "kernelspec": {
   "display_name": "Python 3",
   "language": "python",
   "name": "python3"
  },
  "language_info": {
   "codemirror_mode": {
    "name": "ipython",
    "version": 3
   },
   "file_extension": ".py",
   "mimetype": "text/x-python",
   "name": "python",
   "nbconvert_exporter": "python",
   "pygments_lexer": "ipython3",
   "version": "3.6.5"
  }
 },
 "nbformat": 4,
 "nbformat_minor": 2
}
